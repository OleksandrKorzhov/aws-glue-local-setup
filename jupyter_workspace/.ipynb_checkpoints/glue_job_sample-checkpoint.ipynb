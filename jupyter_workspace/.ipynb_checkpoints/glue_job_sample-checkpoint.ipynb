{
 "cells": [
  {
   "cell_type": "code",
   "execution_count": 8,
   "id": "fcf76537-e819-4998-95c2-a6244d783e4c",
   "metadata": {},
   "outputs": [
    {
     "data": {
      "text/plain": [
       "['/home/glue_user/workspace/jupyter_workspace',\n",
       " 'Package              Version',\n",
       " '-------------------- -----------',\n",
       " 'aiobotocore          1.4.2',\n",
       " 'aiohttp              3.8.3',\n",
       " 'aioitertools         0.11.0',\n",
       " 'aiosignal            1.3.1',\n",
       " 'anyio                3.6.2',\n",
       " 'argon2-cffi          21.3.0',\n",
       " 'argon2-cffi-bindings 21.2.0',\n",
       " 'async-timeout        4.0.2',\n",
       " 'asynctest            0.13.0',\n",
       " 'attrs                22.2.0',\n",
       " 'autovizwidget        0.20.3',\n",
       " 'avro-python3         1.10.2',\n",
       " 'Babel                2.11.0',\n",
       " 'backcall             0.2.0',\n",
       " 'beautifulsoup4       4.11.1',\n",
       " 'bleach               5.0.1',\n",
       " 'boto                 2.49.0',\n",
       " 'boto3                1.18.50',\n",
       " 'botocore             1.20.106',\n",
       " 'certifi              2021.5.30',\n",
       " 'cffi                 1.15.1',\n",
       " 'chardet              3.0.4',\n",
       " 'charset-normalizer   2.1.1',\n",
       " 'click                8.1.3',\n",
       " 'cryptography         39.0.0',\n",
       " 'cycler               0.10.0',\n",
       " 'Cython               0.29.4',\n",
       " 'decorator            5.1.1',\n",
       " 'defusedxml           0.7.1',\n",
       " 'deprecation          2.1.0',\n",
       " 'docutils             0.17.1',\n",
       " 'entrypoints          0.4',\n",
       " 'enum34               1.1.10',\n",
       " 'fastjsonschema       2.16.2',\n",
       " 'frozenlist           1.3.3',\n",
       " 'fsspec               2021.8.1',\n",
       " 'gssapi               1.8.2',\n",
       " 'hdijupyterutils      0.20.3',\n",
       " 'idna                 2.10',\n",
       " 'importlib-metadata   6.0.0',\n",
       " 'importlib-resources  5.10.2',\n",
       " 'iniconfig            2.0.0',\n",
       " 'ipykernel            5.5.3',\n",
       " 'ipython              7.34.0',\n",
       " 'ipython-genutils     0.2.0',\n",
       " 'ipywidgets           7.6.5',\n",
       " 'jedi                 0.18.2',\n",
       " 'Jinja2               3.1.2',\n",
       " 'jmespath             0.10.0',\n",
       " 'joblib               1.0.1',\n",
       " 'json5                0.9.11',\n",
       " 'jsonschema           4.17.3',\n",
       " 'jupyter              1.0.0',\n",
       " 'jupyter_client       7.4.8',\n",
       " 'jupyter-console      6.4.4',\n",
       " 'jupyter_core         4.12.0',\n",
       " 'jupyter_packaging    0.12.3',\n",
       " 'jupyter-server       1.23.4',\n",
       " 'jupyterlab           3.0.14',\n",
       " 'jupyterlab-pygments  0.2.2',\n",
       " 'jupyterlab_server    2.18.0',\n",
       " 'jupyterlab-widgets   1.1.1',\n",
       " 'kiwisolver           1.3.2',\n",
       " 'krb5                 0.4.1',\n",
       " 'MarkupSafe           2.1.1',\n",
       " 'matplotlib           3.4.3',\n",
       " 'matplotlib-inline    0.1.6',\n",
       " 'mistune              2.0.4',\n",
       " 'mock                 5.0.1',\n",
       " 'mpmath               1.2.1',\n",
       " 'multidict            6.0.4',\n",
       " 'nbclassic            0.4.8',\n",
       " 'nbclient             0.7.2',\n",
       " 'nbconvert            7.2.7',\n",
       " 'nbformat             5.7.1',\n",
       " 'nest-asyncio         1.5.6',\n",
       " 'nltk                 3.6.3',\n",
       " 'nose                 1.3.7',\n",
       " 'notebook             6.5.2',\n",
       " 'notebook_shim        0.2.2',\n",
       " 'numpy                1.19.5',\n",
       " 'packaging            23.0',\n",
       " 'pandas               1.3.2',\n",
       " 'pandocfilters        1.5.0',\n",
       " 'parso                0.8.3',\n",
       " 'patsy                0.5.1',\n",
       " 'pexpect              4.8.0',\n",
       " 'pickleshare          0.7.5',\n",
       " 'Pillow               9.4.0',\n",
       " 'pip                  22.3.1',\n",
       " 'pkgutil_resolve_name 1.3.10',\n",
       " 'plotly               5.11.0',\n",
       " 'pluggy               0.13.1',\n",
       " 'pmdarima             1.8.2',\n",
       " 'prometheus-client    0.15.0',\n",
       " 'prompt-toolkit       3.0.36',\n",
       " 'ptvsd                4.3.2',\n",
       " 'ptyprocess           0.7.0',\n",
       " 'py                   1.11.0',\n",
       " 'pyarrow              5.0.0',\n",
       " 'pycparser            2.21',\n",
       " 'pydevd               2.5.0',\n",
       " 'Pygments             2.14.0',\n",
       " 'pyhocon              0.3.58',\n",
       " 'PyMySQL              1.0.2',\n",
       " 'pyparsing            2.4.7',\n",
       " 'pyrsistent           0.19.3',\n",
       " 'pyspnego             0.7.0',\n",
       " 'pytest               6.2.3',\n",
       " 'python-dateutil      2.8.2',\n",
       " 'pytz                 2021.1',\n",
       " 'PyYAML               5.4.1',\n",
       " 'pyzmq                24.0.1',\n",
       " 'qtconsole            5.4.0',\n",
       " 'QtPy                 2.3.0',\n",
       " 'regex                2022.10.31',\n",
       " 'requests             2.23.0',\n",
       " 'requests-kerberos    0.14.0',\n",
       " 's3fs                 2021.8.1',\n",
       " 's3transfer           0.5.0',\n",
       " 'scikit-learn         0.24.2',\n",
       " 'scipy                1.7.1',\n",
       " 'Send2Trash           1.8.0',\n",
       " 'setuptools           49.1.3',\n",
       " 'six                  1.16.0',\n",
       " 'sniffio              1.3.0',\n",
       " 'soupsieve            2.3.2.post1',\n",
       " 'sparkmagic           0.18.0',\n",
       " 'statsmodels          0.12.2',\n",
       " 'subprocess32         3.5.4',\n",
       " 'sympy                1.8',\n",
       " 'tbats                1.1.0',\n",
       " 'tenacity             8.1.0',\n",
       " 'terminado            0.17.1',\n",
       " 'threadpoolctl        3.1.0',\n",
       " 'tinycss2             1.2.1',\n",
       " 'toml                 0.10.2',\n",
       " 'tomlkit              0.11.6',\n",
       " 'tornado              6.2',\n",
       " 'tqdm                 4.64.1',\n",
       " 'traitlets            5.8.1',\n",
       " 'typing_extensions    4.4.0',\n",
       " 'urllib3              1.25.11',\n",
       " 'wcwidth              0.2.5',\n",
       " 'webencodings         0.5.1',\n",
       " 'websocket-client     1.4.2',\n",
       " 'wheel                0.37.0',\n",
       " 'widgetsnbextension   3.5.2',\n",
       " 'wrapt                1.14.1',\n",
       " 'yarl                 1.8.2',\n",
       " 'zipp                 3.11.0',\n",
       " '',\n",
       " '[notice] A new release of pip available: 22.3.1 -> 23.1.1',\n",
       " '[notice] To update, run: python3 -m pip install --upgrade pip']"
      ]
     },
     "execution_count": 8,
     "metadata": {},
     "output_type": "execute_result"
    }
   ],
   "source": [
    "%%!\n",
    "\n",
    "pwd\n",
    "pip list"
   ]
  },
  {
   "cell_type": "code",
   "execution_count": 1,
   "id": "d9930d1a-35bd-4d67-8821-1abcd5efe2f6",
   "metadata": {},
   "outputs": [
    {
     "name": "stdout",
     "output_type": "stream",
     "text": [
      "Starting Spark application\n"
     ]
    },
    {
     "data": {
      "text/html": [
       "<table>\n",
       "<tr><th>ID</th><th>YARN Application ID</th><th>Kind</th><th>State</th><th>Spark UI</th><th>Driver log</th><th>User</th><th>Current session?</th></tr><tr><td>0</td><td>None</td><td>pyspark</td><td>idle</td><td></td><td></td><td>None</td><td>✔</td></tr></table>"
      ],
      "text/plain": [
       "<IPython.core.display.HTML object>"
      ]
     },
     "metadata": {},
     "output_type": "display_data"
    },
    {
     "data": {
      "application/vnd.jupyter.widget-view+json": {
       "model_id": "",
       "version_major": 2,
       "version_minor": 0
      },
      "text/plain": [
       "FloatProgress(value=0.0, bar_style='info', description='Progress:', layout=Layout(height='25px', width='50%'),…"
      ]
     },
     "metadata": {},
     "output_type": "display_data"
    },
    {
     "name": "stdout",
     "output_type": "stream",
     "text": [
      "SparkSession available as 'spark'.\n"
     ]
    },
    {
     "data": {
      "application/vnd.jupyter.widget-view+json": {
       "model_id": "",
       "version_major": 2,
       "version_minor": 0
      },
      "text/plain": [
       "FloatProgress(value=0.0, bar_style='info', description='Progress:', layout=Layout(height='25px', width='50%'),…"
      ]
     },
     "metadata": {},
     "output_type": "display_data"
    },
    {
     "name": "stdout",
     "output_type": "stream",
     "text": [
      "['.env.aws-credentials', 'README.md', 'assets', 'docker-compose.yml', 'jupyter_workspace', 'justfile', 'main.py', 'outer_library', 'requirements.txt', 'src', 'start_jupyter_notebook.sh']"
     ]
    }
   ],
   "source": [
    "import os\n",
    "\n",
    "os.listdir()"
   ]
  },
  {
   "cell_type": "code",
   "execution_count": 2,
   "id": "5a54b76b-1692-4c2a-b3bb-a1e86ed00772",
   "metadata": {},
   "outputs": [
    {
     "data": {
      "application/vnd.jupyter.widget-view+json": {
       "model_id": "",
       "version_major": 2,
       "version_minor": 0
      },
      "text/plain": [
       "FloatProgress(value=0.0, bar_style='info', description='Progress:', layout=Layout(height='25px', width='50%'),…"
      ]
     },
     "metadata": {},
     "output_type": "display_data"
    }
   ],
   "source": [
    "import sys\n",
    "from pyspark.context import SparkContext\n",
    "from awsglue.context import GlueContext\n",
    "from awsglue.job import Job\n",
    "from awsglue.utils import getResolvedOptions"
   ]
  },
  {
   "cell_type": "code",
   "execution_count": 3,
   "id": "9ca62006-8052-4443-9c73-c71eb27fc6e0",
   "metadata": {},
   "outputs": [
    {
     "data": {
      "application/vnd.jupyter.widget-view+json": {
       "model_id": "",
       "version_major": 2,
       "version_minor": 0
      },
      "text/plain": [
       "FloatProgress(value=0.0, bar_style='info', description='Progress:', layout=Layout(height='25px', width='50%'),…"
      ]
     },
     "metadata": {},
     "output_type": "display_data"
    }
   ],
   "source": [
    "params = []\n",
    "\n",
    "#\n",
    "# --JOB_NAME does not exist in local env but will exist when the job is deployed\n",
    "#\n",
    "if '--JOB_NAME' in sys.argv:\n",
    "    params.append('JOB_NAME')\n",
    "\n",
    "args = getResolvedOptions(sys.argv, params)\n",
    "\n",
    "if 'JOB_NAME' in args:\n",
    "    jobname = args['JOB_NAME']\n",
    "else:\n",
    "    jobname = \"test\"\n",
    "\n",
    "context = GlueContext(SparkContext.getOrCreate())\n",
    "job = Job(context)\n",
    "\n",
    "\n",
    "job.init(jobname, args)"
   ]
  },
  {
   "cell_type": "code",
   "execution_count": 11,
   "id": "4bc77b2b-3942-40c0-a8f7-00df2799f6e8",
   "metadata": {},
   "outputs": [
    {
     "data": {
      "application/vnd.jupyter.widget-view+json": {
       "model_id": "",
       "version_major": 2,
       "version_minor": 0
      },
      "text/plain": [
       "FloatProgress(value=0.0, bar_style='info', description='Progress:', layout=Layout(height='25px', width='50%'),…"
      ]
     },
     "metadata": {},
     "output_type": "display_data"
    }
   ],
   "source": [
    "# Creates Glue DynamicFrame from options passed.\n",
    "# Can read from a wide variety of data sources.\n",
    "df = context.create_dynamic_frame.from_options(\n",
    "    connection_type='s3',\n",
    "    connection_options={\n",
    "        'paths': [\"PATH_TO_DATASOURCE\"],\n",
    "        'recurse': True\n",
    "    },\n",
    "    format='json'\n",
    ")\n",
    "\n",
    "# Converts Glue DynamicFrame to a Spark DataFrame\n",
    "df = df.toDF()"
   ]
  },
  {
   "cell_type": "code",
   "execution_count": 12,
   "id": "a69f4dc0-4fd4-4773-bd58-a92e07b20ef8",
   "metadata": {},
   "outputs": [
    {
     "data": {
      "application/vnd.jupyter.widget-view+json": {
       "model_id": "",
       "version_major": 2,
       "version_minor": 0
      },
      "text/plain": [
       "FloatProgress(value=0.0, bar_style='info', description='Progress:', layout=Layout(height='25px', width='50%'),…"
      ]
     },
     "metadata": {},
     "output_type": "display_data"
    },
    {
     "name": "stdout",
     "output_type": "stream",
     "text": [
      "[Row(code='5060292302201', product=Row(_id='5060292302201', _keywords=['and', 'anything', 'appetizer', 'artificial', 'barbeque', 'beverage', 'cereal', 'chip', 'crisp', 'food', 'frie', 'in', 'no', 'oil', 'plant-based', 'popchip', 'potato', 'potatoe', 'preservative', 'salty', 'snack', 'sunflower', 'vegetarian'], added_countries_tags=[], additives_debug_tags=[], additives_n=2, additives_old_n=2, additives_old_tags=['en:e330', 'en:e160c'], additives_original_tags=['en:e330', 'en:e160c'], additives_prev_original_tags=['en:e330', 'en:e160c'], additives_tags=['en:e160c', 'en:e330'], allergens='en:milk', allergens_from_ingredients='en:milk, milk', allergens_from_user='(en) Milk', allergens_hierarchy=['en:milk'], allergens_lc='en', allergens_tags=['en:milk'], amino_acids_prev_tags=[], amino_acids_tags=[], brands='Popchips', brands_tags=['popchips'], carbon_footprint_from_known_ingredients_debug='en:potato 54% x 0.6 = 32.4 g - ', carbon_footprint_percent_of_known_ingredients=54, categories='Plant-based foods and beverages,Plant-based foods,Snacks,Cereals and potatoes,Salty snacks,Appetizers,Chips and fries,Crisps,Potato crisps,Potato crisps in sunflower oil', categories_hierarchy=['en:plant-based-foods-and-beverages', 'en:plant-based-foods', 'en:snacks', 'en:cereals-and-potatoes', 'en:salty-snacks', 'en:appetizers', 'en:chips-and-fries', 'en:crisps', 'en:potato-crisps', 'en:potato-crisps-in-sunflower-oil'], categories_lc='en', categories_old='Plant-based foods and beverages, Plant-based foods, Snacks, Cereals and potatoes, Salty snacks, Appetizers, Chips and fries, Crisps, Potato crisps, Potato crisps in sunflower oil', categories_properties=Row(agribalyse_food_code:en='4004', ciqual_food_code:en='4004'), categories_properties_tags=['all-products', 'categories-known', 'agribalyse-food-code-4004', 'agribalyse-food-code-known', 'agribalyse-proxy-food-code-unknown', 'ciqual-food-code-4004', 'ciqual-food-code-known', 'agribalyse-known', 'agribalyse-4004'], categories_tags=['en:plant-based-foods-and-beverages', 'en:plant-based-foods', 'en:snacks', 'en:cereals-and-potatoes', 'en:salty-snacks', 'en:appetizers', 'en:chips-and-fries', 'en:crisps', 'en:potato-crisps', 'en:potato-crisps-in-sunflower-oil'], category_properties=Row(ciqual_food_name:en='Potato crisps', ciqual_food_name:fr='Chips de pommes de terre, standard'), checkers_tags=[], ciqual_food_name_tags=['potato-crisps'], cities_tags=[], code='5060292302201', codes_tags=['code-13', '5060292302xxx', '506029230xxxx', '50602923xxxxx', '5060292xxxxxx', '506029xxxxxxx', '50602xxxxxxxx', '5060xxxxxxxxx', '506xxxxxxxxxx', '50xxxxxxxxxxx', '5xxxxxxxxxxxx'], compared_to_category='en:potato-crisps-in-sunflower-oil', complete=0, completeness=0.8875, correctors_tags=['tacite', 'tacite-mass-editor', 'yuka.VjQwdU5yUUlpdmxUbjhWa3BFenc4ZGt1NDVLUFZtNm9NdWdOSWc9PQ', 'openfoodfacts-contributors', 'swipe-studio', 'yuka.sY2b0xO6T85zoF3NwEKvllZnctbb-gn-LDr4mHzUyem0FYPXMO5by7b5NKg', 'kiliweb', 'packbot', 'foodless', 'yuka.sY2b0xO6T85zoF3NwEKvlmBZVPXu-gnlBU3miFTQ-NeSIbDaMdUtu4fLGas', 'aleene'], countries='France,United Kingdom', countries_hierarchy=['en:france', 'en:united-kingdom'], countries_lc='en', countries_tags=['en:france', 'en:united-kingdom'], created_t=1433338177, creator='kyzh', data_quality_bugs_tags=[], data_quality_errors_tags=[], data_quality_info_tags=['en:packaging-data-incomplete', 'en:ingredients-percent-analysis-ok', 'en:carbon-footprint-from-known-ingredients-but-not-from-meat-or-fish', 'en:ecoscore-extended-data-computed', 'en:ecoscore-extended-data-less-precise-than-agribalyse', 'en:food-groups-1-known', 'en:food-groups-2-known', 'en:food-groups-3-unknown'], data_quality_tags=['en:packaging-data-incomplete', 'en:ingredients-percent-analysis-ok', 'en:carbon-footprint-from-known-ingredients-but-not-from-meat-or-fish', 'en:ecoscore-extended-data-computed', 'en:ecoscore-extended-data-less-precise-than-agribalyse', 'en:food-groups-1-known', 'en:food-groups-2-known', 'en:food-groups-3-unknown', 'en:nutrition-value-very-low-for-category-energy', 'en:nutrition-value-very-low-for-category-fat', 'en:nutrition-value-very-high-for-category-sugars', 'en:ecoscore-origins-of-ingredients-origins-are-100-percent-unknown', 'en:ecoscore-production-system-no-label'], data_quality_warnings_tags=['en:nutrition-value-very-low-for-category-energy', 'en:nutrition-value-very-low-for-category-fat', 'en:nutrition-value-very-high-for-category-sugars', 'en:ecoscore-origins-of-ingredients-origins-are-100-percent-unknown', 'en:ecoscore-production-system-no-label'], data_sources='App - yuka, Apps, App - Horizon', data_sources_tags=['app-yuka', 'apps', 'app-horizon'], debug_param_sorted_langs=['en'], ecoscore_data=Row(adjustments=Row(origins_of_ingredients=Row(aggregated_origins=[Row(epi_score=0, origin='en:unknown', percent=100, transportation_score=None)], epi_score=0, epi_value=-5, origins_from_origins_field=['en:unknown'], transportation_score=0, transportation_scores=Row(ad=0, al=0, at=0, ax=0, ba=0, be=0, bg=0, ch=0, cy=0, cz=0, de=0, dk=0, dz=0, ee=0, eg=0, es=0, fi=0, fo=0, fr=0, gg=0, gi=0, gr=0, hr=0, hu=0, ie=0, il=0, im=0, is=0, it=0, je=0, lb=0, li=0, lt=0, lu=0, lv=0, ly=0, ma=0, mc=0, md=0, me=0, mk=0, mt=0, nl=0, no=0, pl=0, ps=0, pt=0, ro=0, rs=0, se=0, si=0, sj=0, sk=0, sm=0, sy=0, tn=0, tr=0, ua=0, uk=0, us=0, va=0, world=0, xk=0), transportation_value=0, transportation_values=Row(ad=0, al=0, at=0, ax=0, ba=0, be=0, bg=0, ch=0, cy=0, cz=0, de=0, dk=0, dz=0, ee=0, eg=0, es=0, fi=0, fo=0, fr=0, gg=0, gi=0, gr=0, hr=0, hu=0, ie=0, il=0, im=0, is=0, it=0, je=0, lb=0, li=0, lt=0, lu=0, lv=0, ly=0, ma=0, mc=0, md=0, me=0, mk=0, mt=0, nl=0, no=0, pl=0, ps=0, pt=0, ro=0, rs=0, se=0, si=0, sj=0, sk=0, sm=0, sy=0, tn=0, tr=0, ua=0, uk=0, us=0, va=0, world=0, xk=0), value=-5, values=Row(ad=-5, al=-5, at=-5, ax=-5, ba=-5, be=-5, bg=-5, ch=-5, cy=-5, cz=-5, de=-5, dk=-5, dz=-5, ee=-5, eg=-5, es=-5, fi=-5, fo=-5, fr=-5, gg=-5, gi=-5, gr=-5, hr=-5, hu=-5, ie=-5, il=-5, im=-5, is=-5, it=-5, je=-5, lb=-5, li=-5, lt=-5, lu=-5, lv=-5, ly=-5, ma=-5, mc=-5, md=-5, me=-5, mk=-5, mt=-5, nl=-5, no=-5, pl=-5, ps=-5, pt=-5, ro=-5, rs=-5, se=-5, si=-5, sj=-5, sk=-5, sm=-5, sy=-5, tn=-5, tr=-5, ua=-5, uk=-5, us=-5, va=-5, world=-5, xk=-5), warning='origins_are_100_percent_unknown'), packaging=Row(non_recyclable_and_non_biodegradable_materials=2, packagings=[Row(ecoscore_material_score=0, ecoscore_shape_ratio=1, material='en:plastic', non_recyclable_and_non_biodegradable='maybe', shape='en:packet'), Row(ecoscore_material_score=0, ecoscore_shape_ratio=1, material='en:plastic', non_recyclable_and_non_biodegradable='maybe', shape='en:packet')], score=-100, value=-15), production_system=Row(labels=[], value=0, warning='no_label'), threatened_species=Row()), agribalyse=Row(agribalyse_food_code='4004', co2_agriculture=0.82655583, co2_consumption=0, co2_distribution=0.019537154, co2_packaging=0.28154442, co2_processing=0.23156851, co2_total=1.543669164, co2_transportation=0.18446325, code='4004', dqr='2.45', ef_agriculture=0.14029442, ef_consumption=0, ef_distribution=0.004831936, ef_packaging=0.02370999, ef_processing=0.038707917, ef_total=0.223317319, ef_transportation=0.015773056, is_beverage=0, name_en='Potato crisps', name_fr='Chips de pommes de terre, standard', score=87, version='3.1'), grade='b', grades=Row(ad='b', al='b', at='b', ax='b', ba='b', be='b', bg='b', ch='b', cy='b', cz='b', de='b', dk='b', dz='b', ee='b', eg='b', es='b', fi='b', fo='b', fr='b', gg='b', gi='b', gr='b', hr='b', hu='b', ie='b', il='b', im='b', is='b', it='b', je='b', lb='b', li='b', lt='b', lu='b', lv='b', ly='b', ma='b', mc='b', md='b', me='b', mk='b', mt='b', nl='b', no='b', pl='b', ps='b', pt='b', ro='b', rs='b', se='b', si='b', sj='b', sk='b', sm='b', sy='b', tn='b', tr='b', ua='b', uk='b', us='b', va='b', world='b', xk='b'), missing=Row(labels=1, origins=1), missing_data_warning=1, previous_data=Row(agribalyse=Row(agribalyse_food_code='4004', co2_agriculture=1.2992636, co2_consumption=0, co2_distribution=0.029120657, co2_packaging=0.28581962, co2_processing=0.39294234, co2_total=2.2443641, co2_transportation=0.23728203, code='4004', dqr='2.45', ef_agriculture=0.18214682, ef_consumption=0, ef_distribution=0.0098990521, ef_packaging=0.021558384, ef_processing=0.057508389, ef_total=0.29200269, ef_transportation=0.020894187, is_beverage=0, name_en='Potato crisps', name_fr='Chips de pommes de terre, standard', score=78), grade='b', score=63), score=67, scores=Row(ad=67, al=67, at=67, ax=67, ba=67, be=67, bg=67, ch=67, cy=67, cz=67, de=67, dk=67, dz=67, ee=67, eg=67, es=67, fi=67, fo=67, fr=67, gg=67, gi=67, gr=67, hr=67, hu=67, ie=67, il=67, im=67, is=67, it=67, je=67, lb=67, li=67, lt=67, lu=67, lv=67, ly=67, ma=67, mc=67, md=67, me=67, mk=67, mt=67, nl=67, no=67, pl=67, ps=67, pt=67, ro=67, rs=67, se=67, si=67, sj=67, sk=67, sm=67, sy=67, tn=67, tr=67, ua=67, uk=67, us=67, va=67, world=67, xk=67), status='known'), ecoscore_extended_data=Row(impact=Row(ef_single_score_log_stddev=0.0664290643574977, likeliest_impacts=Row(Climate_change=0.0835225930657116, EF_single_score=0.0132996566234689), likeliest_recipe=Row(en:Oak_smoked_sea_salti_yeast_extract=0.103505496656251, en:e160c=0.10350549665625, en:e330=0.10350549665625, en:flavouring=0.10350549665625, en:garlic_powder=0.103505496656251, en:milk=1.55847864453775, en:onion=0.15510736429208, en:potato=69.2208020730349, en:potato_starch=10.5320407294931, en:rice_flour=13.8595510001351, en:salt=1.3345917157533, en:spice=0.10350549665625, en:sugar=10.2883618334396, en:sunflower_oil=14.1645835312727, en:tomato_powder=0.10350549665625, en:water=6.24510964041154, en:yeast_powder=0.103505496656251), mass_ratio_uncharacterized=0.0244618467395455, uncharacterized_ingredients=Row(impact=['en:yeast-powder', 'en:flavouring', 'en:Oak smoked sea salti yeast extract', 'en:e160c', 'en:e330'], nutrition=['en:flavouring', 'en:Oak smoked sea salti yeast extract']), uncharacterized_ingredients_mass_proportion=Row(impact=0.0244618467395455, nutrition=0.0106506947223728), uncharacterized_ingredients_ratio=Row(impact=0.3125, nutrition=0.125), warnings=['Fermentation agents are present in the product (en:yeast-powder). Carbohydrates and sugars mass balance will not be considered to estimate potential recipes', 'The product has a high number of impact uncharacterized ingredients: 31%'])), ecoscore_extended_data_version='4', ecoscore_grade='b', ecoscore_score=67, ecoscore_tags=['b'], editors=['kyzh', 'tacite'], editors_tags=['kiliweb', 'openfoodfacts-contributors', 'aleene', 'tacite-mass-editor', 'yuka.sY2b0xO6T85zoF3NwEKvlmBZVPXu-gnlBU3miFTQ-NeSIbDaMdUtu4fLGas', 'kyzh', 'yuka.VjQwdU5yUUlpdmxUbjhWa3BFenc4ZGt1NDVLUFZtNm9NdWdOSWc9PQ', 'ecoscore-impact-estimator', 'tacite', 'foodless', 'yuka.sY2b0xO6T85zoF3NwEKvllZnctbb-gn-LDr4mHzUyem0FYPXMO5by7b5NKg', 'swipe-studio', 'packbot'], emb_codes='', emb_codes_20141016='', emb_codes_orig='', emb_codes_tags=[], entry_dates_tags=['2015-06-03', '2015-06', '2015'], expiration_date='11/05/2016', food_groups='en:appetizers', food_groups_tags=['en:salty-snacks', 'en:appetizers'], fruits-vegetables-nuts_100g_estimate=0, generic_name_en='', generic_name_fr='', generic_name_fr_debug_tags=[], id='5060292302201', image_front_small_url='https://images.openfoodfacts.org/images/products/506/029/230/2201/front_en.23.200.jpg', image_front_thumb_url='https://images.openfoodfacts.org/images/products/506/029/230/2201/front_en.23.100.jpg', image_front_url='https://images.openfoodfacts.org/images/products/506/029/230/2201/front_en.23.400.jpg', image_ingredients_small_url='https://images.openfoodfacts.org/images/products/506/029/230/2201/ingredients_en.11.200.jpg', image_ingredients_thumb_url='https://images.openfoodfacts.org/images/products/506/029/230/2201/ingredients_en.11.100.jpg', image_ingredients_url='https://images.openfoodfacts.org/images/products/506/029/230/2201/ingredients_en.11.400.jpg', image_nutrition_small_url='https://images.openfoodfacts.org/images/products/506/029/230/2201/nutrition_en.32.200.jpg', image_nutrition_thumb_url='https://images.openfoodfacts.org/images/products/506/029/230/2201/nutrition_en.32.100.jpg', image_nutrition_url='https://images.openfoodfacts.org/images/products/506/029/230/2201/nutrition_en.32.400.jpg', image_small_url='https://images.openfoodfacts.org/images/products/506/029/230/2201/front_en.23.200.jpg', image_thumb_url='https://images.openfoodfacts.org/images/products/506/029/230/2201/front_en.23.100.jpg', image_url='https://images.openfoodfacts.org/images/products/506/029/230/2201/front_en.23.400.jpg', images=Row(1=Row(sizes=Row(100=Row(h=74, w=100), 400=Row(h=296, w=400), full=Row(h=1482, w=2000)), uploaded_t=1433338177, uploader='kyzh'), 2=Row(sizes=Row(100=Row(h=74, w=100), 400=Row(h=296, w=400), full=Row(h=1482, w=2000)), uploaded_t=1433338194, uploader='kyzh'), 3=Row(sizes=Row(100=Row(h=74, w=100), 400=Row(h=296, w=400), full=Row(h=1482, w=2000)), uploaded_t=1433338203, uploader='kyzh'), 4=Row(sizes=Row(100=Row(h=74, w=100), 400=Row(h=296, w=400), full=Row(h=1482, w=2000)), uploaded_t=1433338215, uploader='kyzh'), 5=Row(sizes=Row(100=Row(h=74, w=100), 400=Row(h=296, w=400), full=Row(h=1482, w=2000)), uploaded_t=1433338229, uploader='kyzh'), 6=Row(sizes=Row(100=Row(h=74, w=100), 400=Row(h=296, w=400), full=Row(h=1482, w=2000)), uploaded_t=1433338245, uploader='kyzh'), 7=Row(sizes=Row(100=Row(h=43, w=100), 400=Row(h=171, w=400), full=Row(h=846, w=1974)), uploaded_t='1508236270', uploader='kiliweb'), 8=Row(sizes=Row(100=Row(h=100, w=82), 400=Row(h=400, w=326), full=Row(h=1140, w=930)), uploaded_t=1620505759, uploader='kiliweb'), 9=Row(sizes=Row(100=Row(h=56, w=100), 400=Row(h=225, w=400), full=Row(h=569, w=1011)), uploaded_t=1656075071, uploader='kiliweb'), front=Row(geometry='1421x1825-0-95', imgid='1', normalize='false', rev='9', sizes=Row(100=Row(h=100, w=78), 200=Row(h=200, w=156), 400=Row(h=400, w=311), full=Row(h=1825, w=1421)), white_magic='true'), front_en=Row(angle=0, coordinates_image_size='full', geometry='0x0--1--1', imgid='8', normalize=None, rev='23', sizes=Row(100=Row(h=100, w=82), 200=Row(h=200, w=163), 400=Row(h=400, w=326), full=Row(h=1140, w=930)), white_magic=None, x1='-1', x2='-1', y1='-1', y2='-1'), ingredients=Row(geometry='1730x526-125-304', imgid='5', normalize='false', ocr=1, orientation='0', rev='11', sizes=Row(100=Row(h=30, w=100), 200=Row(h=61, w=200), 400=Row(h=122, w=400), full=Row(h=526, w=1730)), white_magic='false'), ingredients_en=Row(geometry='1730x526-125-304', imgid='5', normalize='false', ocr=1, orientation='0', rev='11', sizes=Row(100=Row(h=30, w=100), 200=Row(h=61, w=200), 400=Row(h=122, w=400), full=Row(h=526, w=1730)), white_magic='false'), nutrition=Row(geometry='1131x920-150-794', imgid='3', normalize='false', ocr=1, orientation='0', rev='10', sizes=Row(100=Row(h=81, w=100), 200=Row(h=163, w=200), 400=Row(h=325, w=400), full=Row(h=920, w=1131)), white_magic='false'), nutrition_en=Row(angle=0, coordinates_image_size='full', geometry='0x0--1--1', imgid='9', normalize=None, rev='32', sizes=Row(100=Row(h=56, w=100), 200=Row(h=113, w=200), 400=Row(h=225, w=400), full=Row(h=569, w=1011)), white_magic=None, x1='-1', x2='-1', y1='-1', y2='-1')), informers_tags=['kyzh', 'tacite', 'tacite-mass-editor', 'yuka.VjQwdU5yUUlpdmxUbjhWa3BFenc4ZGt1NDVLUFZtNm9NdWdOSWc9PQ', 'openfoodfacts-contributors', 'aleene'], ingredients=[Row(id='en:potato', percent=54, percent_estimate=Row(double=None, int=54), percent_max=Row(double=None, int=54), percent_min=Row(double=None, int=54), processing='en:dried', rank=1, text='potatoes', vegan='yes', vegetarian='yes', from_palm_oil=None, has_sub_ingredients=None), Row(id='en:sunflower-oil', percent=None, percent_estimate=Row(double=28.75, int=None), percent_max=Row(double=None, int=46), percent_min=Row(double=11.5, int=None), processing=None, rank=2, text='sunflower oil', vegan='yes', vegetarian='yes', from_palm_oil='no', has_sub_ingredients=None), Row(id='en:coating', percent=None, percent_estimate=Row(double=8.625, int=None), percent_max=Row(double=33.3333333333333, int=None), percent_min=Row(double=None, int=0), processing=None, rank=3, text='seasoning', vegan='ignore', vegetarian='ignore', from_palm_oil=None, has_sub_ingredients='yes'), Row(id='en:rice-flour', percent=None, percent_estimate=Row(double=4.3125, int=None), percent_max=Row(double=17.25, int=None), percent_min=Row(double=None, int=0), processing=None, rank=4, text='rice flour', vegan='yes', vegetarian='yes', from_palm_oil=None, has_sub_ingredients=None), Row(id='en:potato-starch', percent=None, percent_estimate=Row(double=4.3125, int=None), percent_max=Row(double=11.5, int=None), percent_min=Row(double=None, int=0), processing=None, rank=5, text='potato starch', vegan='yes', vegetarian='yes', from_palm_oil=None, has_sub_ingredients=None), Row(id='en:sugar', percent=None, percent_estimate=Row(double=4.3125, int=None), percent_max=Row(double=33.3333333333333, int=None), percent_min=Row(double=None, int=0), processing=None, rank=None, text='sugar', vegan='yes', vegetarian='yes', from_palm_oil=None, has_sub_ingredients=None), Row(id='en:whey-powder', percent=None, percent_estimate=Row(double=2.15625, int=None), percent_max=Row(double=16.6666666666667, int=None), percent_min=Row(double=None, int=0), processing=None, rank=None, text='whey powder', vegan='no', vegetarian='maybe', from_palm_oil=None, has_sub_ingredients='yes'), Row(id='en:salt', percent=None, percent_estimate=Row(double=1.078125, int=None), percent_max=Row(double=11.1111111111111, int=None), percent_min=Row(double=None, int=0), processing=None, rank=None, text='salt', vegan='yes', vegetarian='yes', from_palm_oil=None, has_sub_ingredients=None), Row(id='en:onion', percent=None, percent_estimate=Row(double=0.5390625, int=None), percent_max=Row(double=8.33333333333333, int=None), percent_min=Row(double=None, int=0), processing='en:powder', rank=None, text='onion', vegan='yes', vegetarian='yes', from_palm_oil=None, has_sub_ingredients=None), Row(id='en:yeast-powder', percent=None, percent_estimate=Row(double=0.26953125, int=None), percent_max=Row(double=6.66666666666667, int=None), percent_min=Row(double=None, int=0), processing=None, rank=None, text='yeast powder', vegan='yes', vegetarian='yes', from_palm_oil=None, has_sub_ingredients=None), Row(id='en:garlic-powder', percent=None, percent_estimate=Row(double=0.134765625, int=None), percent_max=Row(double=5.55555555555556, int=None), percent_min=Row(double=None, int=0), processing=None, rank=None, text='garlic powder', vegan='yes', vegetarian='yes', from_palm_oil=None, has_sub_ingredients=None), Row(id='en:tomato-powder', percent=None, percent_estimate=Row(double=0.0673828125, int=None), percent_max=Row(double=4.76190476190476, int=None), percent_min=Row(double=None, int=0), processing=None, rank=None, text='tomato powder', vegan='yes', vegetarian='yes', from_palm_oil=None, has_sub_ingredients=None), Row(id='en:oak-smoked-sea-salti-yeast-extract', percent=None, percent_estimate=Row(double=0.03369140625, int=None), percent_max=Row(double=4.16666666666667, int=None), percent_min=Row(double=None, int=0), processing=None, rank=None, text='Oak smoked sea salti yeast extract', vegan=None, vegetarian=None, from_palm_oil=None, has_sub_ingredients=None), Row(id='en:flavouring', percent=None, percent_estimate=Row(double=0.016845703125, int=None), percent_max=Row(double=3.7037037037037, int=None), percent_min=Row(double=None, int=0), processing=None, rank=None, text='flavourings', vegan='maybe', vegetarian='maybe', from_palm_oil=None, has_sub_ingredients=None), Row(id='en:spice', percent=None, percent_estimate=Row(double=0.0084228515625, int=None), percent_max=Row(double=3.33333333333333, int=None), percent_min=Row(double=None, int=0), processing=None, rank=None, text='spices', vegan='yes', vegetarian='yes', from_palm_oil=None, has_sub_ingredients=None), Row(id='en:acid', percent=None, percent_estimate=Row(double=0.00421142578125, int=None), percent_max=Row(double=3.03030303030303, int=None), percent_min=Row(double=None, int=0), processing=None, rank=None, text='acid', vegan=None, vegetarian=None, from_palm_oil=None, has_sub_ingredients='yes'), Row(id='en:colour', percent=None, percent_estimate=Row(double=0.00421142578125, int=None), percent_max=Row(double=2.77777777777778, int=None), percent_min=Row(double=None, int=0), processing=None, rank=None, text='colour', vegan=None, vegetarian=None, from_palm_oil=None, has_sub_ingredients='yes'), Row(id='en:milk', percent=None, percent_estimate=Row(double=2.15625, int=None), percent_max=Row(double=16.6666666666667, int=None), percent_min=Row(double=None, int=0), processing=None, rank=None, text='milk', vegan='no', vegetarian='yes', from_palm_oil=None, has_sub_ingredients=None), Row(id='en:e330', percent=None, percent_estimate=Row(double=0.00421142578125, int=None), percent_max=Row(double=3.03030303030303, int=None), percent_min=Row(double=None, int=0), processing=None, rank=None, text='citric acid', vegan='yes', vegetarian='yes', from_palm_oil=None, has_sub_ingredients=None), Row(id='en:e160c', percent=None, percent_estimate=Row(double=0.00421142578125, int=None), percent_max=Row(double=2.77777777777778, int=None), percent_min=Row(double=None, int=0), processing=None, rank=None, text='paprika extract', vegan='yes', vegetarian='yes', from_palm_oil=None, has_sub_ingredients=None)], ingredients_analysis=Row(en:non-vegan=['en:whey-powder', 'en:milk'], en:palm-oil-content-unknown=['en:oak-smoked-sea-salti-yeast-extract'], en:vegan-status-unknown=['en:oak-smoked-sea-salti-yeast-extract'], en:vegetarian-status-unknown=['en:oak-smoked-sea-salti-yeast-extract']), ingredients_analysis_tags=['en:palm-oil-free', 'en:non-vegan', 'en:vegetarian'], ingredients_debug=['54% dried potatoes', ',', None, None, None, ' sunflower oil', ',', None, None, None, ' seasoning ', '(', '(', None, None, 'sugar', ',', None, None, None, ' whey powder ', '[', '[', None, None, 'milk]', ',', None, None, None, ' salt', ',', None, None, None, ' onion powder', ',', None, None, None, ' yeast powder', ',', None, None, None, ' garlic powder', ',', None, None, None, ' tomato powder', ',', None, None, None, ' Oak smoked sea salti yeast extract', ',', None, None, None, ' flavourings', ',', None, None, None, ' spices', ',', None, None, None, ' acid', ':', ':', None, None, ' citric acid', ',', None, None, None, ' colour', ':', ':', None, None, ' paprika extract)', ',', None, None, None, ' rice flour', ',', None, None, None, ' potato starch.'], ingredients_from_or_that_may_be_from_palm_oil_n=0, ingredients_from_palm_oil_n=0, ingredients_from_palm_oil_tags=[], ingredients_hierarchy=['en:potato', 'en:vegetable', 'en:root-vegetable', 'en:sunflower-oil', 'en:oil-and-fat', 'en:vegetable-oil-and-fat', 'en:vegetable-oil', 'en:coating', 'en:rice-flour', 'en:flour', 'en:rice', 'en:potato-starch', 'en:starch', 'en:sugar', 'en:added-sugar', 'en:disaccharide', 'en:whey-powder', 'en:dairy', 'en:whey', 'en:salt', 'en:onion', 'en:yeast-powder', 'en:yeast', 'en:garlic-powder', 'en:garlic', 'en:tomato-powder', 'en:tomato', 'en:oak-smoked-sea-salti-yeast-extract', 'en:flavouring', 'en:spice', 'en:condiment', 'en:acid', 'en:colour', 'en:milk', 'en:e330', 'en:e160c'], ingredients_ids_debug=['54-dried-potatoes', 'sunflower-oil', 'seasoning', 'sugar', 'whey-powder', 'milk', 'salt', 'onion-powder', 'yeast-powder', 'garlic-powder', 'tomato-powder', 'oak-smoked-sea-salti-yeast-extract', 'flavourings', 'spices', 'acid', 'citric-acid', 'colour', 'paprika-extract', 'rice-flour', 'potato-starch'], ingredients_n=20, ingredients_n_tags=['20', '11-20'], ingredients_original_tags=['en:potato', 'en:sunflower-oil', 'en:coating', 'en:rice-flour', 'en:potato-starch', 'en:sugar', 'en:whey-powder', 'en:salt', 'en:onion', 'en:yeast-powder', 'en:garlic-powder', 'en:tomato-powder', 'en:oak-smoked-sea-salti-yeast-extract', 'en:flavouring', 'en:spice', 'en:acid', 'en:colour', 'en:milk', 'en:e330', 'en:e160c'], ingredients_percent_analysis=1, ingredients_tags=['en:potato', 'en:vegetable', 'en:root-vegetable', 'en:sunflower-oil', 'en:oil-and-fat', 'en:vegetable-oil-and-fat', 'en:vegetable-oil', 'en:coating', 'en:rice-flour', 'en:flour', 'en:rice', 'en:potato-starch', 'en:starch', 'en:sugar', 'en:added-sugar', 'en:disaccharide', 'en:whey-powder', 'en:dairy', 'en:whey', 'en:salt', 'en:onion', 'en:yeast-powder', 'en:yeast', 'en:garlic-powder', 'en:garlic', 'en:tomato-powder', 'en:tomato', 'en:oak-smoked-sea-salti-yeast-extract', 'en:flavouring', 'en:spice', 'en:condiment', 'en:acid', 'en:colour', 'en:milk', 'en:e330', 'en:e160c'], ingredients_text='54% dried potatoes, sunflower oil, seasoning (sugar, whey powder [milk], salt, onion powder, yeast powder, garlic powder, tomato powder, Oak smoked sea salti yeast extract, flavourings, spices, acid: citric acid, colour: paprika extract), rice flour, potato starch.', ingredients_text_debug='54% dried potatoes, sunflower oil, seasoning (sugar, whey powder [milk], salt, onion powder, yeast powder, garlic powder, tomato powder, Oak smoked sea salti yeast extract, flavourings, spices, acid: citric acid, colour: paprika extract), rice flour, potato starch.', ingredients_text_debug_tags=[], ingredients_text_en='54% dried potatoes, sunflower oil, seasoning (sugar, whey powder [milk], salt, onion powder, yeast powder, garlic powder, tomato powder, Oak smoked sea salti yeast extract, flavourings, spices, acid: citric acid, colour: paprika extract), rice flour, potato starch.', ingredients_text_fr='', ingredients_text_fr_debug_tags=[], ingredients_text_with_allergens='54% dried potatoes, sunflower oil, seasoning (sugar, whey powder [<span class=\"allergen\">milk</span>], salt, onion powder, yeast powder, garlic powder, tomato powder, Oak smoked sea salti yeast extract, flavourings, spices, acid: citric acid, colour: paprika extract), rice flour, potato starch.', ingredients_text_with_allergens_en='54% dried potatoes, sunflower oil, seasoning (sugar, whey powder [<span class=\"allergen\">milk</span>], salt, onion powder, yeast powder, garlic powder, tomato powder, Oak smoked sea salti yeast extract, flavourings, spices, acid: citric acid, colour: paprika extract), rice flour, potato starch.', ingredients_that_may_be_from_palm_oil_n=0, ingredients_that_may_be_from_palm_oil_tags=[], ingredients_with_specified_percent_n=1, ingredients_with_specified_percent_sum=54, ingredients_with_unspecified_percent_n=15, ingredients_with_unspecified_percent_sum=46, interface_version_created='20120622', interface_version_modified='20190830', known_ingredients_n=35, labels='Vegetarian,No preservatives,No artificial anything', labels_hierarchy=['en:vegetarian', 'en:no-preservatives', 'en:No artificial anything'], labels_lc='en', labels_old='Vegetarian, No preservatives, No artificial anything', labels_tags=['en:vegetarian', 'en:no-preservatives', 'en:no-artificial-anything'], lang='en', languages=Row(en:english=5), languages_codes=Row(en:english=5), languages_hierarchy=['en:english'], languages_tags=['en:english', 'en:1'], last_edit_dates_tags=['2023-03-24', '2023-03', '2023'], last_editor='aleene', last_image_dates_tags=['2022-06-24', '2022-06', '2022'], last_image_t=1656075071, last_modified_by='aleene', last_modified_t=1679645675, lc='en', link='', main_countries_tags=[], manufacturing_places='European Union', manufacturing_places_tags=['european-union'], max_imgid='9', minerals_prev_tags=[], minerals_tags=[], misc_tags=['en:nutrition-fruits-vegetables-nuts-estimate-from-ingredients', 'en:nutrition-all-nutriscore-values-known', 'en:nutriscore-computed', 'en:ecoscore-extended-data-computed', 'en:ecoscore-extended-data-version-4', 'en:ecoscore-missing-data-warning', 'en:ecoscore-missing-data-labels', 'en:ecoscore-missing-data-origins', 'en:ecoscore-computed', 'en:ecoscore-changed', 'en:main-countries-fr-product-name-not-in-country-language', 'en:main-countries-fr-ingredients-not-in-country-language', 'en:main-countries-fr-no-data-in-country-language', 'en:packagings-not-complete', 'en:packagings-not-empty-but-not-complete', 'en:packagings-not-empty'], no_nutrition_data='', nova_group=4, nova_group_debug='', nova_groups='4', nova_groups_markers=Row(3=[['categories', 'en:salty-snacks'], ['ingredients', 'en:salt'], ['ingredients', 'en:starch'], ['ingredients', 'en:sugar'], ['ingredients', 'en:vegetable-oil']], 4=[['additives', 'en:e160c'], ['ingredients', 'en:colour'], ['ingredients', 'en:flavouring'], ['ingredients', 'en:whey']]), nova_groups_tags=['en:4-ultra-processed-food-and-drink-products'], nucleotides_prev_tags=[], nucleotides_tags=[], nutrient_levels=Row(fat='moderate', salt='high', saturated-fat='low', sugars='moderate'), nutrient_levels_tags=['en:fat-in-moderate-quantity', 'en:saturated-fat-in-low-quantity', 'en:sugars-in-moderate-quantity', 'en:salt-in-high-quantity'], nutriments=Row(carbohydrates=62, carbohydrates_100g=62, carbohydrates_serving=14.3, carbohydrates_unit='g', carbohydrates_value=62, carbon-footprint-from-known-ingredients_100g=32.4, carbon-footprint-from-known-ingredients_product=7.45, carbon-footprint-from-known-ingredients_serving=7.45, energy=1759, energy-kcal=420, energy-kcal_100g=420, energy-kcal_serving=96.6, energy-kcal_unit='kcal', energy-kcal_value=420, energy-kcal_value_computed=413.6, energy-kj=1759, energy-kj_100g=1759, energy-kj_serving=405, energy-kj_unit='kJ', energy-kj_value=1759, energy-kj_value_computed=1737.1, energy_100g=1759, energy_serving=405, energy_unit='kJ', energy_value=1759, fat=15, fat_100g=15, fat_serving=3.45, fat_unit='g', fat_value=15, fiber=3.9, fiber_100g=3.9, fiber_serving=0.897, fiber_unit='g', fiber_value=3.9, fruits-vegetables-nuts-estimate-from-ingredients_100g=0, fruits-vegetables-nuts-estimate-from-ingredients_serving=0, nova-group=4, nova-group_100g=4, nova-group_serving=4, nutrition-score-fr=12, nutrition-score-fr_100g=12, proteins=5.7, proteins_100g=5.7, proteins_serving=1.31, proteins_unit='g', proteins_value=5.7, salt=2.1, salt_100g=2.1, salt_serving=0.483, salt_unit='g', salt_value=2.1, saturated-fat=1.4, saturated-fat_100g=1.4, saturated-fat_serving=0.322, saturated-fat_unit='g', saturated-fat_value=1.4, sodium=0.84, sodium_100g=0.84, sodium_serving=0.193, sodium_unit='g', sodium_value=0.84, sugars=8.7, sugars_100g=8.7, sugars_serving=2, sugars_unit='g', sugars_value=8.7), nutriscore_data=Row(energy=1759, energy_points=5, energy_value=1759, fiber=3.9, fiber_points=4, fiber_value=3.9, fruits_vegetables_nuts_colza_walnut_olive_oils=0, fruits_vegetables_nuts_colza_walnut_olive_oils_points=0, fruits_vegetables_nuts_colza_walnut_olive_oils_value=0, grade='d', is_beverage=0, is_cheese=0, is_fat=0, is_water=0, negative_points=16, positive_points=4, proteins=5.7, proteins_points=3, proteins_value=5.7, saturated_fat=1.4, saturated_fat_points=1, saturated_fat_ratio=9.33333333333333, saturated_fat_ratio_points=0, saturated_fat_ratio_value=9.3, saturated_fat_value=1.4, score=12, sodium=840, sodium_points=9, sodium_value=840, sugars=8.7, sugars_points=1, sugars_value=8.7), nutriscore_grade='d', nutriscore_score=12, nutriscore_score_opposite=-12, nutrition_data='on', nutrition_data_per='100g', nutrition_data_prepared='', nutrition_data_prepared_per='100g', nutrition_grade_fr='d', nutrition_grades='d', nutrition_grades_tags=['d'], nutrition_score_beverage=0, nutrition_score_debug='', nutrition_score_warning_fruits_vegetables_nuts_estimate_from_ingredients=1, nutrition_score_warning_fruits_vegetables_nuts_estimate_from_ingredients_value=0, obsolete='', obsolete_since_date='', origin_en='', origins='', origins_hierarchy=[], origins_lc='en', origins_old='', origins_tags=[], other_nutritional_substances_tags=[], packaging='Plastic,Mixed plastic film-packet', packaging_hierarchy=['en:plastic', 'en:Mixed plastic film-packet'], packaging_lc='en', packaging_old='Plastic, Mixed plastic-packet', packaging_old_before_taxonomization='Plastic, en:mixed plastic-packet', packaging_tags=['en:plastic', 'en:mixed-plastic-film-packet'], packaging_text_en='', packagings=[Row(material='en:plastic', shape='en:packet'), Row(material='en:plastic', shape='en:packet')], packagings_complete=0, photographers_tags=['kyzh', 'kiliweb'], pnns_groups_1='Salty snacks', pnns_groups_1_tags=['salty-snacks', 'known'], pnns_groups_2='Appetizers', pnns_groups_2_tags=['appetizers', 'known'], popularity_key=21900000007, popularity_tags=['bottom-25-percent-scans-2019', 'bottom-20-percent-scans-2019', 'bottom-15-percent-scans-2019', 'top-90-percent-scans-2019', 'top-10000-gb-scans-2019', 'top-50000-gb-scans-2019', 'top-100000-gb-scans-2019', 'top-country-gb-scans-2019', 'bottom-25-percent-scans-2020', 'top-80-percent-scans-2020', 'top-85-percent-scans-2020', 'top-90-percent-scans-2020', 'top-5000-gb-scans-2020', 'top-10000-gb-scans-2020', 'top-50000-gb-scans-2020', 'top-100000-gb-scans-2020', 'top-country-gb-scans-2020', 'top-100000-scans-2021', 'at-least-5-scans-2021', 'top-75-percent-scans-2021', 'top-80-percent-scans-2021', 'top-85-percent-scans-2021', 'top-90-percent-scans-2021', 'top-5000-gb-scans-2021', 'top-10000-gb-scans-2021', 'top-50000-gb-scans-2021', 'top-100000-gb-scans-2021', 'top-country-gb-scans-2021', 'at-least-5-gb-scans-2021', 'top-5000-ie-scans-2021', 'top-10000-ie-scans-2021', 'top-50000-ie-scans-2021', 'top-100000-ie-scans-2021', 'top-1000-mu-scans-2021', 'top-5000-mu-scans-2021', 'top-10000-mu-scans-2021', 'top-50000-mu-scans-2021', 'top-100000-mu-scans-2021', 'top-100000-scans-2022', 'top-75-percent-scans-2022', 'top-80-percent-scans-2022', 'top-85-percent-scans-2022', 'top-90-percent-scans-2022', 'top-5000-gb-scans-2022', 'top-10000-gb-scans-2022', 'top-50000-gb-scans-2022', 'top-100000-gb-scans-2022', 'top-country-gb-scans-2022', 'top-500-hk-scans-2022', 'top-1000-hk-scans-2022', 'top-5000-hk-scans-2022', 'top-10000-hk-scans-2022', 'top-50000-hk-scans-2022', 'top-100000-hk-scans-2022', 'top-10000-us-scans-2022', 'top-50000-us-scans-2022', 'top-100000-us-scans-2022'], product_name='Barbeque Potato Chips', product_name_en='Barbeque Potato Chips', product_name_fr='', product_name_fr_debug_tags=[], product_quantity='23', purchase_places='', purchase_places_tags=[], quantity='23 g', removed_countries_tags=[], rev=33, scans_n=6, selected_images=Row(front=Row(display=Row(en='https://images.openfoodfacts.org/images/products/506/029/230/2201/front_en.23.400.jpg'), small=Row(en='https://images.openfoodfacts.org/images/products/506/029/230/2201/front_en.23.200.jpg'), thumb=Row(en='https://images.openfoodfacts.org/images/products/506/029/230/2201/front_en.23.100.jpg')), ingredients=Row(display=Row(en='https://images.openfoodfacts.org/images/products/506/029/230/2201/ingredients_en.11.400.jpg'), small=Row(en='https://images.openfoodfacts.org/images/products/506/029/230/2201/ingredients_en.11.200.jpg'), thumb=Row(en='https://images.openfoodfacts.org/images/products/506/029/230/2201/ingredients_en.11.100.jpg')), nutrition=Row(display=Row(en='https://images.openfoodfacts.org/images/products/506/029/230/2201/nutrition_en.32.400.jpg'), small=Row(en='https://images.openfoodfacts.org/images/products/506/029/230/2201/nutrition_en.32.200.jpg'), thumb=Row(en='https://images.openfoodfacts.org/images/products/506/029/230/2201/nutrition_en.32.100.jpg'))), serving_quantity='23', serving_size='23 g', sortkey=1535456524, states='en:to-be-completed, en:nutrition-facts-completed, en:ingredients-completed, en:expiration-date-completed, en:packaging-code-to-be-completed, en:characteristics-to-be-completed, en:origins-to-be-completed, en:categories-completed, en:brands-completed, en:packaging-completed, en:quantity-completed, en:product-name-completed, en:photos-to-be-validated, en:packaging-photo-to-be-selected, en:nutrition-photo-selected, en:ingredients-photo-selected, en:front-photo-selected, en:photos-uploaded', states_hierarchy=['en:to-be-completed', 'en:nutrition-facts-completed', 'en:ingredients-completed', 'en:expiration-date-completed', 'en:packaging-code-to-be-completed', 'en:characteristics-to-be-completed', 'en:origins-to-be-completed', 'en:categories-completed', 'en:brands-completed', 'en:packaging-completed', 'en:quantity-completed', 'en:product-name-completed', 'en:photos-to-be-validated', 'en:packaging-photo-to-be-selected', 'en:nutrition-photo-selected', 'en:ingredients-photo-selected', 'en:front-photo-selected', 'en:photos-uploaded'], states_tags=['en:to-be-completed', 'en:nutrition-facts-completed', 'en:ingredients-completed', 'en:expiration-date-completed', 'en:packaging-code-to-be-completed', 'en:characteristics-to-be-completed', 'en:origins-to-be-completed', 'en:categories-completed', 'en:brands-completed', 'en:packaging-completed', 'en:quantity-completed', 'en:product-name-completed', 'en:photos-to-be-validated', 'en:packaging-photo-to-be-selected', 'en:nutrition-photo-selected', 'en:ingredients-photo-selected', 'en:front-photo-selected', 'en:photos-uploaded'], stores='', stores_tags=[], teams='swipe-studio', teams_tags=['swipe-studio'], traces='', traces_from_ingredients='', traces_from_user='(en) ', traces_hierarchy=[], traces_lc='en', traces_tags=[], unique_scans_n=4, unknown_ingredients_n=1, unknown_nutrients_tags=[], update_key='packagings-20230324', vitamins_prev_tags=[], vitamins_tags=[], weighers_tags=[]), status=1, status_verbose='product found')]"
     ]
    }
   ],
   "source": [
    "df.head(1)"
   ]
  },
  {
   "cell_type": "code",
   "execution_count": null,
   "id": "0d5ac940-d88f-48e0-8a87-956501a0cb1e",
   "metadata": {},
   "outputs": [],
   "source": []
  }
 ],
 "metadata": {
  "kernelspec": {
   "display_name": "PySpark",
   "language": "python",
   "name": "pysparkkernel"
  },
  "language_info": {
   "codemirror_mode": {
    "name": "python",
    "version": 3
   },
   "file_extension": ".py",
   "mimetype": "text/x-python",
   "name": "pyspark",
   "pygments_lexer": "python3"
  }
 },
 "nbformat": 4,
 "nbformat_minor": 5
}
